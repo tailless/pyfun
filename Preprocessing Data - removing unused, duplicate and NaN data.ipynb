{
 "cells": [
  {
   "cell_type": "code",
   "execution_count": 1,
   "metadata": {
    "collapsed": false
   },
   "outputs": [
    {
     "data": {
      "text/html": [
       "<div>\n",
       "<table border=\"1\" class=\"dataframe\">\n",
       "  <thead>\n",
       "    <tr style=\"text-align: right;\">\n",
       "      <th></th>\n",
       "      <th>movie_title</th>\n",
       "      <th>title_year</th>\n",
       "      <th>director_name</th>\n",
       "      <th>gross</th>\n",
       "      <th>budget</th>\n",
       "      <th>content_rating</th>\n",
       "      <th>country</th>\n",
       "      <th>duration</th>\n",
       "      <th>actor_1_facebook_likes</th>\n",
       "      <th>genres</th>\n",
       "    </tr>\n",
       "  </thead>\n",
       "  <tbody>\n",
       "    <tr>\n",
       "      <th>0</th>\n",
       "      <td>Avatar</td>\n",
       "      <td>2009.0</td>\n",
       "      <td>James Cameron</td>\n",
       "      <td>760505847.0</td>\n",
       "      <td>237000000.0</td>\n",
       "      <td>PG-13</td>\n",
       "      <td>USA</td>\n",
       "      <td>178.0</td>\n",
       "      <td>1000.0</td>\n",
       "      <td>Action|Adventure|Fantasy|Sci-Fi</td>\n",
       "    </tr>\n",
       "    <tr>\n",
       "      <th>1</th>\n",
       "      <td>Pirates of the Caribbean: At World's End</td>\n",
       "      <td>2007.0</td>\n",
       "      <td>Gore Verbinski</td>\n",
       "      <td>309404152.0</td>\n",
       "      <td>300000000.0</td>\n",
       "      <td>PG-13</td>\n",
       "      <td>USA</td>\n",
       "      <td>169.0</td>\n",
       "      <td>40000.0</td>\n",
       "      <td>Action|Adventure|Fantasy</td>\n",
       "    </tr>\n",
       "    <tr>\n",
       "      <th>3</th>\n",
       "      <td>The Dark Knight Rises</td>\n",
       "      <td>2012.0</td>\n",
       "      <td>Christopher Nolan</td>\n",
       "      <td>448130642.0</td>\n",
       "      <td>250000000.0</td>\n",
       "      <td>PG-13</td>\n",
       "      <td>USA</td>\n",
       "      <td>164.0</td>\n",
       "      <td>27000.0</td>\n",
       "      <td>Action|Thriller</td>\n",
       "    </tr>\n",
       "    <tr>\n",
       "      <th>5</th>\n",
       "      <td>John Carter</td>\n",
       "      <td>2012.0</td>\n",
       "      <td>Andrew Stanton</td>\n",
       "      <td>73058679.0</td>\n",
       "      <td>263700000.0</td>\n",
       "      <td>PG-13</td>\n",
       "      <td>USA</td>\n",
       "      <td>132.0</td>\n",
       "      <td>640.0</td>\n",
       "      <td>Action|Adventure|Sci-Fi</td>\n",
       "    </tr>\n",
       "    <tr>\n",
       "      <th>6</th>\n",
       "      <td>Spider-Man 3</td>\n",
       "      <td>2007.0</td>\n",
       "      <td>Sam Raimi</td>\n",
       "      <td>336530303.0</td>\n",
       "      <td>258000000.0</td>\n",
       "      <td>PG-13</td>\n",
       "      <td>USA</td>\n",
       "      <td>156.0</td>\n",
       "      <td>24000.0</td>\n",
       "      <td>Action|Adventure|Romance</td>\n",
       "    </tr>\n",
       "  </tbody>\n",
       "</table>\n",
       "</div>"
      ],
      "text/plain": [
       "                                 movie_title  title_year      director_name  \\\n",
       "0                                    Avatar       2009.0      James Cameron   \n",
       "1  Pirates of the Caribbean: At World's End       2007.0     Gore Verbinski   \n",
       "3                     The Dark Knight Rises       2012.0  Christopher Nolan   \n",
       "5                               John Carter       2012.0     Andrew Stanton   \n",
       "6                              Spider-Man 3       2007.0          Sam Raimi   \n",
       "\n",
       "         gross       budget content_rating country  duration  \\\n",
       "0  760505847.0  237000000.0          PG-13     USA     178.0   \n",
       "1  309404152.0  300000000.0          PG-13     USA     169.0   \n",
       "3  448130642.0  250000000.0          PG-13     USA     164.0   \n",
       "5   73058679.0  263700000.0          PG-13     USA     132.0   \n",
       "6  336530303.0  258000000.0          PG-13     USA     156.0   \n",
       "\n",
       "   actor_1_facebook_likes                           genres  \n",
       "0                  1000.0  Action|Adventure|Fantasy|Sci-Fi  \n",
       "1                 40000.0         Action|Adventure|Fantasy  \n",
       "3                 27000.0                  Action|Thriller  \n",
       "5                   640.0          Action|Adventure|Sci-Fi  \n",
       "6                 24000.0         Action|Adventure|Romance  "
      ]
     },
     "execution_count": 1,
     "metadata": {},
     "output_type": "execute_result"
    }
   ],
   "source": [
    "import pandas as pd\n",
    "\n",
    "# load imdb csv file into dataframe\n",
    "df = pd.read_csv(\"./movie_metadata.csv\" )\n",
    "#filter out movies with no gross earnings or no budget data & only USA movies\n",
    "imdb = df[(df.gross > 0) & (df.budget > 0) & (df.country == 'USA')].loc[:,['movie_title','title_year','director_name','gross','budget','content_rating','country','duration','actor_1_facebook_likes','genres']]\n",
    "imdb.head()"
   ]
  },
  {
   "cell_type": "code",
   "execution_count": 17,
   "metadata": {
    "collapsed": false
   },
   "outputs": [
    {
     "data": {
      "text/plain": [
       "(3052, 10)"
      ]
     },
     "execution_count": 17,
     "metadata": {},
     "output_type": "execute_result"
    }
   ],
   "source": [
    "#filter out any NaN values\n",
    "drop_NaN_imdb = imdb.dropna(how='any')\n",
    "drop_NaN_imdb.shape"
   ]
  },
  {
   "cell_type": "code",
   "execution_count": 18,
   "metadata": {
    "collapsed": false,
    "scrolled": true
   },
   "outputs": [
    {
     "data": {
      "text/plain": [
       "(2972, 10)"
      ]
     },
     "execution_count": 18,
     "metadata": {},
     "output_type": "execute_result"
    }
   ],
   "source": [
    "#filter out any duplicate instances\n",
    "drop_duplicates_imdb = drop_NaN_imdb.drop_duplicates()\n",
    "drop_duplicates_imdb.shape"
   ]
  },
  {
   "cell_type": "code",
   "execution_count": 20,
   "metadata": {
    "collapsed": true
   },
   "outputs": [],
   "source": [
    "# Write cleaned up dataframe to csv\n",
    "drop_duplicates_imdb.to_csv(\"./movie_all_relevant_cleaned_metadata.csv\", index=False, encoding=\"utf-8\")"
   ]
  },
  {
   "cell_type": "code",
   "execution_count": 4,
   "metadata": {
    "collapsed": false,
    "scrolled": false
   },
   "outputs": [
    {
     "data": {
      "text/html": [
       "<div>\n",
       "<table border=\"1\" class=\"dataframe\">\n",
       "  <thead>\n",
       "    <tr style=\"text-align: right;\">\n",
       "      <th></th>\n",
       "      <th>movie_title</th>\n",
       "      <th>title_year</th>\n",
       "      <th>director_name</th>\n",
       "      <th>gross</th>\n",
       "      <th>budget</th>\n",
       "      <th>content_rating</th>\n",
       "      <th>country</th>\n",
       "      <th>duration</th>\n",
       "      <th>actor_1_facebook_likes</th>\n",
       "      <th>genres</th>\n",
       "    </tr>\n",
       "  </thead>\n",
       "  <tbody>\n",
       "    <tr>\n",
       "      <th>0</th>\n",
       "      <td>Avatar</td>\n",
       "      <td>2009.0</td>\n",
       "      <td>James Cameron</td>\n",
       "      <td>760505847.0</td>\n",
       "      <td>237000000.0</td>\n",
       "      <td>PG-13</td>\n",
       "      <td>USA</td>\n",
       "      <td>178.0</td>\n",
       "      <td>1000.0</td>\n",
       "      <td>Action|Adventure|Fantasy|Sci-Fi</td>\n",
       "    </tr>\n",
       "    <tr>\n",
       "      <th>1</th>\n",
       "      <td>Pirates of the Caribbean: At World's End</td>\n",
       "      <td>2007.0</td>\n",
       "      <td>Gore Verbinski</td>\n",
       "      <td>309404152.0</td>\n",
       "      <td>300000000.0</td>\n",
       "      <td>PG-13</td>\n",
       "      <td>USA</td>\n",
       "      <td>169.0</td>\n",
       "      <td>40000.0</td>\n",
       "      <td>Action|Adventure|Fantasy</td>\n",
       "    </tr>\n",
       "    <tr>\n",
       "      <th>3</th>\n",
       "      <td>The Dark Knight Rises</td>\n",
       "      <td>2012.0</td>\n",
       "      <td>Christopher Nolan</td>\n",
       "      <td>448130642.0</td>\n",
       "      <td>250000000.0</td>\n",
       "      <td>PG-13</td>\n",
       "      <td>USA</td>\n",
       "      <td>164.0</td>\n",
       "      <td>27000.0</td>\n",
       "      <td>Action|Thriller</td>\n",
       "    </tr>\n",
       "    <tr>\n",
       "      <th>5</th>\n",
       "      <td>John Carter</td>\n",
       "      <td>2012.0</td>\n",
       "      <td>Andrew Stanton</td>\n",
       "      <td>73058679.0</td>\n",
       "      <td>263700000.0</td>\n",
       "      <td>PG-13</td>\n",
       "      <td>USA</td>\n",
       "      <td>132.0</td>\n",
       "      <td>640.0</td>\n",
       "      <td>Action|Adventure|Sci-Fi</td>\n",
       "    </tr>\n",
       "    <tr>\n",
       "      <th>6</th>\n",
       "      <td>Spider-Man 3</td>\n",
       "      <td>2007.0</td>\n",
       "      <td>Sam Raimi</td>\n",
       "      <td>336530303.0</td>\n",
       "      <td>258000000.0</td>\n",
       "      <td>PG-13</td>\n",
       "      <td>USA</td>\n",
       "      <td>156.0</td>\n",
       "      <td>24000.0</td>\n",
       "      <td>Action|Adventure|Romance</td>\n",
       "    </tr>\n",
       "  </tbody>\n",
       "</table>\n",
       "</div>"
      ],
      "text/plain": [
       "                                 movie_title  title_year      director_name  \\\n",
       "0                                    Avatar       2009.0      James Cameron   \n",
       "1  Pirates of the Caribbean: At World's End       2007.0     Gore Verbinski   \n",
       "3                     The Dark Knight Rises       2012.0  Christopher Nolan   \n",
       "5                               John Carter       2012.0     Andrew Stanton   \n",
       "6                              Spider-Man 3       2007.0          Sam Raimi   \n",
       "\n",
       "         gross       budget content_rating country  duration  \\\n",
       "0  760505847.0  237000000.0          PG-13     USA     178.0   \n",
       "1  309404152.0  300000000.0          PG-13     USA     169.0   \n",
       "3  448130642.0  250000000.0          PG-13     USA     164.0   \n",
       "5   73058679.0  263700000.0          PG-13     USA     132.0   \n",
       "6  336530303.0  258000000.0          PG-13     USA     156.0   \n",
       "\n",
       "   actor_1_facebook_likes                           genres  \n",
       "0                  1000.0  Action|Adventure|Fantasy|Sci-Fi  \n",
       "1                 40000.0         Action|Adventure|Fantasy  \n",
       "3                 27000.0                  Action|Thriller  \n",
       "5                   640.0          Action|Adventure|Sci-Fi  \n",
       "6                 24000.0         Action|Adventure|Romance  "
      ]
     },
     "execution_count": 4,
     "metadata": {},
     "output_type": "execute_result"
    }
   ],
   "source": [
    "ratedMovies.head()"
   ]
  },
  {
   "cell_type": "code",
   "execution_count": 5,
   "metadata": {
    "collapsed": true
   },
   "outputs": [],
   "source": [
    "# Write cleaned up dataframe to csv\n",
    "ratedMovies.to_csv(\"./movie_all_relevant_metadata.csv\", index=False, encoding=\"utf-8\")"
   ]
  },
  {
   "cell_type": "code",
   "execution_count": 6,
   "metadata": {
    "collapsed": false,
    "scrolled": false
   },
   "outputs": [
    {
     "data": {
      "image/png": "[encoded data removed]",
      "text/plain": [
       "<matplotlib.figure.Figure at 0x110d84e10>"
      ]
     },
     "metadata": {},
     "output_type": "display_data"
    }
   ],
   "source": [
    "%matplotlib inline\n",
    "boxplots = ratedMovies.boxplot(column='gross', by='content_rating', return_type='axes')"
   ]
  },
  {
   "cell_type": "code",
   "execution_count": 24,
   "metadata": {
    "collapsed": false
   },
   "outputs": [],
   "source": [
    "#ratedMovies.plot.density('gross')"
   ]
  },
  {
   "cell_type": "code",
   "execution_count": 7,
   "metadata": {
    "collapsed": false
   },
   "outputs": [
    {
     "data": {
      "image/png": "[encoded data removed]",
      "text/plain": [
       "<matplotlib.figure.Figure at 0x11020b278>"
      ]
     },
     "metadata": {},
     "output_type": "display_data"
    }
   ],
   "source": [
    "%matplotlib inline\n",
    "boxplots = ratedMovies.boxplot( by='content_rating', return_type='axes')"
   ]
  },
  {
   "cell_type": "code",
   "execution_count": 8,
   "metadata": {
    "collapsed": false
   },
   "outputs": [],
   "source": [
    "import sklearn\n",
    "X = ratedMovies.loc[:, ['gross','budget']].values \n",
    "y = ratedMovies.loc[:, 'content_rating'].values "
   ]
  },
  {
   "cell_type": "code",
   "execution_count": 9,
   "metadata": {
    "collapsed": false
   },
   "outputs": [
    {
     "data": {
      "text/plain": [
       "array([[  7.60505847e+08,   2.37000000e+08],\n",
       "       [  3.09404152e+08,   3.00000000e+08],\n",
       "       [  4.48130642e+08,   2.50000000e+08],\n",
       "       ..., \n",
       "       [  4.24760000e+05,   7.00000000e+03],\n",
       "       [  2.04092000e+06,   7.00000000e+03],\n",
       "       [  8.52220000e+04,   1.10000000e+03]])"
      ]
     },
     "execution_count": 9,
     "metadata": {},
     "output_type": "execute_result"
    }
   ],
   "source": [
    "X"
   ]
  },
  {
   "cell_type": "code",
   "execution_count": 10,
   "metadata": {
    "collapsed": false
   },
   "outputs": [],
   "source": [
    "from sklearn.model_selection import train_test_split\n",
    "X_train, X_test, y_train, y_test = train_test_split(X, y, test_size=0.3, random_state=8)"
   ]
  },
  {
   "cell_type": "code",
   "execution_count": 11,
   "metadata": {
    "collapsed": false
   },
   "outputs": [
    {
     "data": {
      "text/plain": [
       "0.49006622516556292"
      ]
     },
     "execution_count": 11,
     "metadata": {},
     "output_type": "execute_result"
    }
   ],
   "source": [
    "from sklearn.neighbors import KNeighborsClassifier\n",
    "knn = KNeighborsClassifier(n_neighbors=51, algorithm='auto', metric='minkowski', p=1, weights='distance')\n",
    "imdb_knn_model = knn.fit(X_train, y_train) #the model/classifier\n",
    "imdb_knn_model.score(X_test, y_test)"
   ]
  },
  {
   "cell_type": "code",
   "execution_count": 12,
   "metadata": {
    "collapsed": false
   },
   "outputs": [],
   "source": [
    "from sklearn.metrics import confusion_matrix\n",
    "y_pred = imdb_knn_model.predict(X_test)\n",
    "cm_array = confusion_matrix(y_test, y_pred)"
   ]
  },
  {
   "cell_type": "code",
   "execution_count": 32,
   "metadata": {
    "collapsed": false
   },
   "outputs": [
    {
     "data": {
      "text/plain": [
       "<matplotlib.axes._subplots.AxesSubplot at 0x11a8df358>"
      ]
     },
     "execution_count": 32,
     "metadata": {},
     "output_type": "execute_result"
    },
    {
     "data": {
      "image/png": "[encoded data removed]",
      "text/plain": [
       "<matplotlib.figure.Figure at 0x11a8cf898>"
      ]
     },
     "metadata": {},
     "output_type": "display_data"
    }
   ],
   "source": [
    "#%matplotlib inline\n",
    "import seaborn as sn\n",
    "import matplotlib.pyplot as plt\n",
    "import numpy as np\n",
    "\n",
    "df_cm = pd.DataFrame(cm_array, index = [i for i in np.unique(y)],\n",
    "                  columns = [i for i in np.unique(y)])\n",
    "plt.figure(figsize = (10,7))\n",
    "sn.heatmap(df_cm, annot=True)"
   ]
  },
  {
   "cell_type": "code",
   "execution_count": 13,
   "metadata": {
    "collapsed": false
   },
   "outputs": [
    {
     "data": {
      "text/plain": [
       "array(['PG-13', 'G', 'R', 'PG', 'R', 'R', 'R', 'R', 'R', 'PG-13', 'PG-13',\n",
       "       'R', 'PG-13', 'R', 'PG-13', 'R', 'PG', 'PG-13', 'PG-13', 'R', 'PG',\n",
       "       'R', 'R', 'R', 'PG-13', 'R', 'R', 'R', 'PG', 'R', 'R', 'PG-13',\n",
       "       'PG-13', 'R', 'R', 'PG-13', 'PG-13', 'R', 'PG-13', 'PG-13', 'R',\n",
       "       'PG-13', 'R', 'R', 'PG-13', 'PG-13', 'PG-13', 'R', 'R', 'R',\n",
       "       'PG-13', 'PG-13', 'R', 'R', 'R', 'R', 'R', 'R', 'R', 'R', 'R', 'PG',\n",
       "       'R', 'PG', 'R', 'R', 'G', 'R', 'PG-13', 'PG-13', 'R', 'R', 'R', 'R',\n",
       "       'R', 'PG-13', 'PG-13', 'PG-13', 'R', 'R', 'R', 'R', 'R', 'PG-13',\n",
       "       'R', 'PG-13', 'G', 'R', 'PG-13', 'PG-13', 'PG-13', 'R', 'PG-13',\n",
       "       'PG-13', 'R', 'R', 'R', 'R', 'R', 'R', 'R', 'R', 'R', 'PG-13', 'R',\n",
       "       'R', 'R', 'R', 'PG', 'R', 'R', 'R', 'R', 'R', 'R', 'R', 'PG-13',\n",
       "       'R', 'R', 'PG-13', 'PG-13', 'PG-13', 'PG-13', 'R', 'PG-13', 'R',\n",
       "       'R', 'PG-13', 'R', 'R', 'R', 'R', 'R', 'PG-13', 'R', 'PG-13',\n",
       "       'PG-13', 'R', 'R', 'R', 'PG-13', 'PG-13', 'R', 'PG-13', 'PG-13',\n",
       "       'R', 'PG-13', 'R', 'R', 'R', 'R', 'PG-13', 'PG-13', 'R', 'PG', 'R',\n",
       "       'R', 'R', 'R', 'PG-13', 'R', 'R', 'PG-13', 'R', 'PG-13', 'PG-13',\n",
       "       'PG-13', 'R', 'PG-13', 'PG-13', 'R', 'R', 'PG-13', 'R', 'PG-13',\n",
       "       'R', 'PG', 'R', 'PG-13', 'R', 'R', 'PG-13', 'R', 'R', 'R', 'R',\n",
       "       'PG-13', 'R', 'PG-13', 'PG-13', 'PG-13', 'R', 'R', 'R', 'PG-13',\n",
       "       'R', 'R', 'PG-13', 'R', 'R', 'PG-13', 'R', 'R', 'R', 'R', 'PG-13',\n",
       "       'R', 'PG-13', 'R', 'R', 'PG-13', 'R', 'R', 'R', 'R', 'R', 'R',\n",
       "       'PG-13', 'R', 'PG-13', 'PG-13', 'R', 'PG-13', 'PG-13', 'PG-13', 'R',\n",
       "       'R', 'R', 'PG-13', 'R', 'R', 'R', 'R', 'R', 'R', 'R', 'R', 'PG-13',\n",
       "       'R', 'PG-13', 'R', 'R', 'PG-13', 'R', 'PG', 'R', 'R', 'PG-13',\n",
       "       'PG-13', 'R', 'R', 'PG-13', 'R', 'R', 'PG-13', 'PG-13', 'R', 'R',\n",
       "       'R', 'R', 'R', 'R', 'PG-13', 'PG-13', 'PG', 'PG-13', 'R', 'PG',\n",
       "       'PG-13', 'PG-13', 'PG-13', 'PG-13', 'PG-13', 'R', 'R', 'PG-13', 'R',\n",
       "       'R', 'R', 'PG-13', 'R', 'PG-13', 'R', 'R', 'PG-13', 'R', 'R', 'R',\n",
       "       'R', 'PG-13', 'PG-13', 'PG-13', 'R', 'R', 'R', 'G', 'R', 'R', 'R',\n",
       "       'R', 'R', 'PG', 'R', 'PG-13', 'PG-13', 'R', 'PG', 'PG-13', 'PG-13',\n",
       "       'R', 'PG-13', 'PG-13', 'R', 'R', 'R', 'R', 'R', 'R', 'R', 'R',\n",
       "       'PG-13', 'PG-13', 'R', 'PG-13', 'PG-13', 'R', 'R', 'PG-13', 'R',\n",
       "       'R', 'R', 'PG-13', 'R', 'PG-13', 'R', 'R', 'PG-13', 'R', 'R', 'R',\n",
       "       'R', 'PG-13', 'PG-13', 'PG-13', 'R', 'PG-13', 'R', 'R', 'R', 'R',\n",
       "       'R', 'R', 'PG-13', 'PG-13', 'R', 'R', 'PG-13', 'R', 'PG-13', 'R',\n",
       "       'R', 'R', 'PG', 'R', 'R', 'R', 'PG-13', 'R', 'PG', 'R', 'R', 'R',\n",
       "       'PG', 'PG-13', 'PG-13', 'R', 'PG-13', 'PG-13', 'PG-13', 'R',\n",
       "       'PG-13', 'R', 'R', 'R', 'R', 'PG-13', 'R', 'PG-13', 'PG-13',\n",
       "       'PG-13', 'PG-13', 'R', 'PG-13', 'PG-13', 'R', 'PG-13', 'PG-13', 'R',\n",
       "       'R', 'R', 'PG-13', 'PG-13', 'R', 'R', 'R', 'R', 'R', 'R', 'PG', 'R',\n",
       "       'PG-13', 'R', 'R', 'PG-13', 'PG-13', 'R', 'PG-13', 'PG-13', 'R',\n",
       "       'R', 'R', 'R', 'R', 'R', 'PG-13', 'R', 'PG-13', 'R', 'PG', 'PG-13',\n",
       "       'R', 'R', 'R', 'PG-13', 'R', 'R', 'PG-13', 'PG-13', 'PG-13', 'R',\n",
       "       'PG-13', 'PG-13', 'R', 'R', 'PG-13', 'PG-13', 'R', 'PG-13', 'PG',\n",
       "       'PG-13', 'R', 'PG-13', 'R', 'R', 'R', 'R', 'R', 'PG-13', 'PG-13',\n",
       "       'R', 'PG-13', 'PG-13', 'R', 'PG-13', 'PG-13', 'PG', 'PG-13',\n",
       "       'PG-13', 'PG-13', 'R', 'PG-13', 'PG-13', 'R', 'PG-13', 'PG', 'R',\n",
       "       'R', 'PG-13', 'R', 'PG-13', 'PG-13', 'R', 'R', 'PG-13', 'PG-13',\n",
       "       'R', 'R', 'R', 'R', 'R', 'R', 'R', 'R', 'R', 'PG-13', 'PG-13', 'R',\n",
       "       'PG-13', 'PG-13', 'R', 'R', 'R', 'PG-13', 'PG-13', 'PG-13', 'PG-13',\n",
       "       'R', 'R', 'PG-13', 'R', 'PG-13', 'R', 'PG-13', 'R', 'PG-13', 'R',\n",
       "       'PG-13', 'R', 'G', 'R', 'R', 'R', 'PG-13', 'PG-13', 'R', 'R', 'R',\n",
       "       'R', 'PG-13', 'PG-13', 'R', 'R', 'PG-13', 'PG-13', 'PG-13', 'PG-13',\n",
       "       'R', 'R', 'R', 'R', 'PG', 'R', 'R', 'PG-13', 'R', 'R', 'R', 'R',\n",
       "       'R', 'R', 'R', 'R', 'R', 'R', 'R', 'PG-13', 'R', 'R', 'R', 'R', 'R',\n",
       "       'R', 'R', 'PG-13', 'PG-13', 'R', 'R', 'R', 'R', 'PG-13', 'PG-13',\n",
       "       'R', 'PG-13', 'R', 'R', 'PG-13', 'PG-13', 'R', 'PG-13', 'R',\n",
       "       'PG-13', 'R', 'PG-13', 'PG-13', 'R', 'R', 'PG-13', 'R', 'PG-13',\n",
       "       'G', 'R', 'PG-13', 'PG', 'R', 'PG-13', 'R', 'PG-13', 'PG-13',\n",
       "       'PG-13', 'PG-13', 'R', 'R', 'R', 'R', 'PG-13', 'R', 'PG', 'PG', 'R',\n",
       "       'PG-13', 'R', 'R', 'R', 'PG-13', 'R', 'PG-13', 'PG', 'PG-13', 'R',\n",
       "       'R', 'PG-13', 'R', 'R', 'R', 'PG-13', 'PG-13', 'R', 'R', 'R', 'R',\n",
       "       'PG-13', 'PG-13', 'PG-13', 'R', 'NC-17', 'R', 'R', 'R', 'R', 'R',\n",
       "       'R', 'R', 'R', 'R', 'R', 'R', 'PG-13', 'R', 'PG-13', 'R', 'R',\n",
       "       'PG-13', 'R', 'PG-13', 'PG-13', 'R', 'PG', 'R', 'R', 'R', 'PG-13',\n",
       "       'R', 'R', 'R', 'R', 'PG-13', 'PG-13', 'R', 'R', 'PG', 'R', 'PG',\n",
       "       'R', 'PG-13', 'R', 'R', 'R', 'PG', 'R', 'R', 'R', 'PG-13', 'PG-13',\n",
       "       'PG-13', 'R', 'R', 'R', 'PG-13', 'PG-13', 'R', 'PG-13', 'R',\n",
       "       'PG-13', 'PG-13', 'PG-13', 'R', 'PG-13', 'PG-13', 'PG-13', 'R',\n",
       "       'PG-13', 'PG-13', 'PG', 'R', 'PG-13', 'R', 'PG-13', 'R', 'R', 'R',\n",
       "       'R', 'R', 'PG-13', 'R', 'R', 'R', 'PG-13', 'PG-13', 'R', 'R', 'R',\n",
       "       'R', 'R', 'R', 'R', 'R', 'R', 'R', 'PG-13', 'PG', 'PG-13', 'R',\n",
       "       'PG-13', 'R', 'R', 'PG-13', 'R', 'R', 'R', 'PG-13', 'PG-13',\n",
       "       'PG-13', 'R', 'PG-13', 'R', 'PG-13', 'R', 'PG-13', 'R', 'R', 'R',\n",
       "       'R', 'PG-13', 'R', 'PG-13', 'PG-13', 'R', 'R', 'R', 'R', 'PG-13',\n",
       "       'R', 'R', 'PG-13', 'PG-13', 'R', 'R', 'R', 'R', 'PG-13', 'R', 'R',\n",
       "       'PG-13', 'PG-13', 'R', 'R', 'PG-13', 'PG-13', 'R', 'R', 'PG',\n",
       "       'PG-13', 'PG', 'R', 'R', 'PG-13', 'R', 'R', 'R', 'PG-13', 'R', 'R',\n",
       "       'R', 'R', 'R', 'R', 'R', 'PG-13', 'PG-13', 'R', 'R', 'PG', 'PG-13',\n",
       "       'PG', 'PG', 'R', 'PG', 'PG-13', 'PG-13', 'R', 'PG-13', 'PG-13', 'R',\n",
       "       'R', 'R', 'PG-13', 'PG-13', 'R', 'PG-13', 'PG', 'R', 'PG-13', 'R',\n",
       "       'R', 'PG-13', 'R', 'R', 'R', 'R', 'R', 'R', 'R', 'PG-13', 'R',\n",
       "       'PG-13', 'R', 'R', 'PG-13', 'PG-13', 'PG-13', 'R', 'R', 'R', 'R',\n",
       "       'PG-13', 'R', 'R', 'PG-13', 'R', 'PG-13', 'R', 'PG-13', 'PG', 'R',\n",
       "       'R', 'PG-13', 'R', 'PG-13', 'R', 'PG-13', 'PG-13', 'R', 'R',\n",
       "       'PG-13', 'R', 'PG', 'PG-13', 'PG-13', 'R', 'R', 'R', 'R', 'R',\n",
       "       'PG-13', 'PG-13', 'R', 'R', 'R', 'R', 'R', 'R', 'PG-13', 'R', 'R',\n",
       "       'R', 'R', 'R', 'R', 'R', 'PG-13', 'PG-13', 'PG-13', 'PG-13', 'R',\n",
       "       'R', 'R', 'PG-13', 'R', 'PG-13', 'R', 'R', 'PG-13', 'R', 'R', 'PG',\n",
       "       'PG-13'], dtype=object)"
      ]
     },
     "execution_count": 13,
     "metadata": {},
     "output_type": "execute_result"
    }
   ],
   "source": [
    "y_pred"
   ]
  },
  {
   "cell_type": "code",
   "execution_count": null,
   "metadata": {
    "collapsed": true
   },
   "outputs": [],
   "source": []
  }
 ],
 "metadata": {
  "kernelspec": {
   "display_name": "Python 3",
   "language": "python",
   "name": "python3"
  },
  "language_info": {
   "codemirror_mode": {
    "name": "ipython",
    "version": 3
   },
   "file_extension": ".py",
   "mimetype": "text/x-python",
   "name": "python",
   "nbconvert_exporter": "python",
   "pygments_lexer": "ipython3",
   "version": "3.6.0"
  }
 },
 "nbformat": 4,
 "nbformat_minor": 2
}
