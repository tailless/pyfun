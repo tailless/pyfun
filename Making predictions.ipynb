{
 "cells": [
  {
   "cell_type": "code",
   "execution_count": 141,
   "metadata": {
    "collapsed": false
   },
   "outputs": [
    {
     "data": {
      "text/html": [
       "<div>\n",
       "<table border=\"1\" class=\"dataframe\">\n",
       "  <thead>\n",
       "    <tr style=\"text-align: right;\">\n",
       "      <th></th>\n",
       "      <th>movie_title</th>\n",
       "      <th>title_year</th>\n",
       "      <th>director_name</th>\n",
       "      <th>gross</th>\n",
       "      <th>budget</th>\n",
       "      <th>content_rating</th>\n",
       "      <th>country</th>\n",
       "      <th>duration</th>\n",
       "      <th>actor_1_facebook_likes</th>\n",
       "      <th>genres</th>\n",
       "      <th>...</th>\n",
       "      <th>Horror</th>\n",
       "      <th>Music</th>\n",
       "      <th>Musical</th>\n",
       "      <th>Mystery</th>\n",
       "      <th>Romance</th>\n",
       "      <th>Sci-Fi</th>\n",
       "      <th>Sport</th>\n",
       "      <th>Thriller</th>\n",
       "      <th>War</th>\n",
       "      <th>Western</th>\n",
       "    </tr>\n",
       "  </thead>\n",
       "  <tbody>\n",
       "    <tr>\n",
       "      <th>0</th>\n",
       "      <td>Avatar</td>\n",
       "      <td>2009.0</td>\n",
       "      <td>James Cameron</td>\n",
       "      <td>760505847.0</td>\n",
       "      <td>237000000.0</td>\n",
       "      <td>3</td>\n",
       "      <td>USA</td>\n",
       "      <td>178.0</td>\n",
       "      <td>1000.0</td>\n",
       "      <td>Action|Adventure|Fantasy|Sci-Fi</td>\n",
       "      <td>...</td>\n",
       "      <td>0</td>\n",
       "      <td>0</td>\n",
       "      <td>0</td>\n",
       "      <td>0</td>\n",
       "      <td>0</td>\n",
       "      <td>1</td>\n",
       "      <td>0</td>\n",
       "      <td>0</td>\n",
       "      <td>0</td>\n",
       "      <td>0</td>\n",
       "    </tr>\n",
       "    <tr>\n",
       "      <th>1</th>\n",
       "      <td>Pirates of the Caribbean: At World's End</td>\n",
       "      <td>2007.0</td>\n",
       "      <td>Gore Verbinski</td>\n",
       "      <td>309404152.0</td>\n",
       "      <td>300000000.0</td>\n",
       "      <td>3</td>\n",
       "      <td>USA</td>\n",
       "      <td>169.0</td>\n",
       "      <td>40000.0</td>\n",
       "      <td>Action|Adventure|Fantasy</td>\n",
       "      <td>...</td>\n",
       "      <td>0</td>\n",
       "      <td>0</td>\n",
       "      <td>0</td>\n",
       "      <td>0</td>\n",
       "      <td>0</td>\n",
       "      <td>0</td>\n",
       "      <td>0</td>\n",
       "      <td>0</td>\n",
       "      <td>0</td>\n",
       "      <td>0</td>\n",
       "    </tr>\n",
       "  </tbody>\n",
       "</table>\n",
       "<p>2 rows × 38 columns</p>\n",
       "</div>"
      ],
      "text/plain": [
       "                                 movie_title  title_year   director_name  \\\n",
       "0                                    Avatar       2009.0   James Cameron   \n",
       "1  Pirates of the Caribbean: At World's End       2007.0  Gore Verbinski   \n",
       "\n",
       "         gross       budget  content_rating country  duration  \\\n",
       "0  760505847.0  237000000.0               3     USA     178.0   \n",
       "1  309404152.0  300000000.0               3     USA     169.0   \n",
       "\n",
       "   actor_1_facebook_likes                           genres   ...     Horror  \\\n",
       "0                  1000.0  Action|Adventure|Fantasy|Sci-Fi   ...          0   \n",
       "1                 40000.0         Action|Adventure|Fantasy   ...          0   \n",
       "\n",
       "   Music  Musical  Mystery  Romance  Sci-Fi  Sport  Thriller  War  Western  \n",
       "0      0        0        0        0       1      0         0    0        0  \n",
       "1      0        0        0        0       0      0         0    0        0  \n",
       "\n",
       "[2 rows x 38 columns]"
      ]
     },
     "execution_count": 141,
     "metadata": {},
     "output_type": "execute_result"
    }
   ],
   "source": [
    "import pandas as pd\n",
    "\n",
    "# load imdb csv file into dataframe\n",
    "imdb = pd.read_csv(\"./movies_with_SplitGenres.csv\" )\n",
    "imdb.head(2)"
   ]
  },
  {
   "cell_type": "code",
   "execution_count": 142,
   "metadata": {
    "collapsed": true
   },
   "outputs": [],
   "source": [
    "budg = imdb.loc[:,'adj_budget']\n",
    "gross = imdb.loc[:,'dir_adj_av_gross']\n",
    "duration = imdb.loc[:,'duration']\n",
    "\n",
    "budg_norm = (budg-budg.min())/(budg.max()-budg.min())\n",
    "gross_norm = (gross-gross.min())/(gross.max()-gross.min())\n",
    "dur_norm = (duration-duration.min())/(duration.max()-duration.min())\n",
    "\n",
    "imdb['adj_budget']=budg_norm\n",
    "imdb['dir_adj_av_gross']=gross_norm\n",
    "imdb['duration']=dur_norm"
   ]
  },
  {
   "cell_type": "code",
   "execution_count": 143,
   "metadata": {
    "collapsed": false
   },
   "outputs": [
    {
     "data": {
      "text/html": [
       "<div>\n",
       "<table border=\"1\" class=\"dataframe\">\n",
       "  <thead>\n",
       "    <tr style=\"text-align: right;\">\n",
       "      <th></th>\n",
       "      <th>movie_title</th>\n",
       "      <th>title_year</th>\n",
       "      <th>director_name</th>\n",
       "      <th>gross</th>\n",
       "      <th>budget</th>\n",
       "      <th>content_rating</th>\n",
       "      <th>country</th>\n",
       "      <th>duration</th>\n",
       "      <th>actor_1_facebook_likes</th>\n",
       "      <th>genres</th>\n",
       "      <th>...</th>\n",
       "      <th>Horror</th>\n",
       "      <th>Music</th>\n",
       "      <th>Musical</th>\n",
       "      <th>Mystery</th>\n",
       "      <th>Romance</th>\n",
       "      <th>Sci-Fi</th>\n",
       "      <th>Sport</th>\n",
       "      <th>Thriller</th>\n",
       "      <th>War</th>\n",
       "      <th>Western</th>\n",
       "    </tr>\n",
       "  </thead>\n",
       "  <tbody>\n",
       "    <tr>\n",
       "      <th>0</th>\n",
       "      <td>Avatar</td>\n",
       "      <td>2009.0</td>\n",
       "      <td>James Cameron</td>\n",
       "      <td>760505847.0</td>\n",
       "      <td>237000000.0</td>\n",
       "      <td>3</td>\n",
       "      <td>USA</td>\n",
       "      <td>0.481229</td>\n",
       "      <td>1000.0</td>\n",
       "      <td>Action|Adventure|Fantasy|Sci-Fi</td>\n",
       "      <td>...</td>\n",
       "      <td>0</td>\n",
       "      <td>0</td>\n",
       "      <td>0</td>\n",
       "      <td>0</td>\n",
       "      <td>0</td>\n",
       "      <td>1</td>\n",
       "      <td>0</td>\n",
       "      <td>0</td>\n",
       "      <td>0</td>\n",
       "      <td>0</td>\n",
       "    </tr>\n",
       "    <tr>\n",
       "      <th>1</th>\n",
       "      <td>Pirates of the Caribbean: At World's End</td>\n",
       "      <td>2007.0</td>\n",
       "      <td>Gore Verbinski</td>\n",
       "      <td>309404152.0</td>\n",
       "      <td>300000000.0</td>\n",
       "      <td>3</td>\n",
       "      <td>USA</td>\n",
       "      <td>0.450512</td>\n",
       "      <td>40000.0</td>\n",
       "      <td>Action|Adventure|Fantasy</td>\n",
       "      <td>...</td>\n",
       "      <td>0</td>\n",
       "      <td>0</td>\n",
       "      <td>0</td>\n",
       "      <td>0</td>\n",
       "      <td>0</td>\n",
       "      <td>0</td>\n",
       "      <td>0</td>\n",
       "      <td>0</td>\n",
       "      <td>0</td>\n",
       "      <td>0</td>\n",
       "    </tr>\n",
       "  </tbody>\n",
       "</table>\n",
       "<p>2 rows × 38 columns</p>\n",
       "</div>"
      ],
      "text/plain": [
       "                                 movie_title  title_year   director_name  \\\n",
       "0                                    Avatar       2009.0   James Cameron   \n",
       "1  Pirates of the Caribbean: At World's End       2007.0  Gore Verbinski   \n",
       "\n",
       "         gross       budget  content_rating country  duration  \\\n",
       "0  760505847.0  237000000.0               3     USA  0.481229   \n",
       "1  309404152.0  300000000.0               3     USA  0.450512   \n",
       "\n",
       "   actor_1_facebook_likes                           genres   ...     Horror  \\\n",
       "0                  1000.0  Action|Adventure|Fantasy|Sci-Fi   ...          0   \n",
       "1                 40000.0         Action|Adventure|Fantasy   ...          0   \n",
       "\n",
       "   Music  Musical  Mystery  Romance  Sci-Fi  Sport  Thriller  War  Western  \n",
       "0      0        0        0        0       1      0         0    0        0  \n",
       "1      0        0        0        0       0      0         0    0        0  \n",
       "\n",
       "[2 rows x 38 columns]"
      ]
     },
     "execution_count": 143,
     "metadata": {},
     "output_type": "execute_result"
    }
   ],
   "source": [
    "imdb.head(2)"
   ]
  },
  {
   "cell_type": "code",
   "execution_count": 144,
   "metadata": {
    "collapsed": false
   },
   "outputs": [
    {
     "data": {
      "text/plain": [
       "[0, 1, 2, 3, 4, 5, 6, 7, 8, 9, 10, 11]"
      ]
     },
     "execution_count": 144,
     "metadata": {},
     "output_type": "execute_result"
    }
   ],
   "source": [
    "from sklearn import preprocessing\n",
    "le = preprocessing.LabelEncoder()\n",
    "le.fit(imdb.ROI_band.unique())\n",
    "\n",
    "list(le.classes_)"
   ]
  },
  {
   "cell_type": "code",
   "execution_count": 145,
   "metadata": {
    "collapsed": true
   },
   "outputs": [],
   "source": [
    "#testing a range of classifiers.. \n",
    "from sklearn                        import metrics, svm\n",
    "from sklearn.linear_model           import LinearRegression\n",
    "from sklearn.linear_model           import LogisticRegression\n",
    "from sklearn.tree                   import DecisionTreeClassifier\n",
    "from sklearn.neighbors              import KNeighborsClassifier\n",
    "from sklearn.discriminant_analysis  import LinearDiscriminantAnalysis\n",
    "from sklearn.naive_bayes            import GaussianNB\n",
    "from sklearn.svm                    import SVC\n",
    "from sklearn.ensemble import RandomForestClassifier"
   ]
  },
  {
   "cell_type": "code",
   "execution_count": 146,
   "metadata": {
    "collapsed": false
   },
   "outputs": [],
   "source": [
    "#Using content rating & adjusted budget, duration, dir_adj_av_gross and genres to predict gross earnings\n",
    "X = imdb.loc[:, ['content_rating','adj_budget','duration','dir_adj_av_gross']]\n",
    "#X = imdb.loc[:, ['content_rating','adj_budget','duration','dir_adj_av_gross','Action', 'Adventure', 'Animation', 'Biography', 'Comedy', 'Crime','Documentary', 'Drama', 'Family', 'Fantasy', 'History', 'Horror','Music', 'Musical', 'Mystery', 'Romance', 'Sci-Fi', 'Sport','Thriller', 'War', 'Western']]\n",
    "y = imdb.loc[:, 'ROI_band'].values\n",
    "\n",
    "#splitting the data\n",
    "from sklearn.model_selection import train_test_split\n",
    "X_train, X_test, y_train, y_test = train_test_split(X, y, test_size=0.2, random_state=8)\n"
   ]
  },
  {
   "cell_type": "code",
   "execution_count": 147,
   "metadata": {
    "collapsed": false
   },
   "outputs": [
    {
     "name": "stdout",
     "output_type": "stream",
     "text": [
      "KNeighborsClassifier: 0.397959183673\n"
     ]
    }
   ],
   "source": [
    "#make predictions\n",
    "trainingData    = X_train\n",
    "trainingScores  = y_train \n",
    "predictionData  = X_test \n",
    "predictionScores = y_test\n",
    "\n",
    "clf = KNeighborsClassifier(n_neighbors=30, algorithm='auto', metric='minkowski', p=2, weights='uniform')\n",
    "clf.fit(trainingData, trainingScores)\n",
    "print(\"KNeighborsClassifier:\", clf.score(predictionData, predictionScores))\n",
    "\n"
   ]
  },
  {
   "cell_type": "code",
   "execution_count": 148,
   "metadata": {
    "collapsed": false
   },
   "outputs": [
    {
     "name": "stdout",
     "output_type": "stream",
     "text": [
      "predictionScores [ 0  1  2  3  4  5  6  7 10 11]\n",
      "y_predicted [0 1 3 4 5 6]\n"
     ]
    }
   ],
   "source": [
    "%matplotlib inline\n",
    "from sklearn.metrics import confusion_matrix\n",
    "import seaborn as sn\n",
    "import numpy as np\n",
    "\n",
    "y_predicted = clf.predict(predictionData)\n",
    "y_predicted.shape\n",
    "\n",
    "print('predictionScores',  np.unique(predictionScores))\n",
    "print('y_predicted', np.unique(y_predicted))\n"
   ]
  },
  {
   "cell_type": "code",
   "execution_count": 149,
   "metadata": {
    "collapsed": false,
    "scrolled": true
   },
   "outputs": [
    {
     "data": {
      "text/plain": [
       "<matplotlib.axes._subplots.AxesSubplot at 0x114d6a898>"
      ]
     },
     "execution_count": 149,
     "metadata": {},
     "output_type": "execute_result"
    },
    {
     "data": {
      "image/png": "[encoded data removed]",
      "text/plain": [
       "<matplotlib.figure.Figure at 0x114dae630>"
      ]
     },
     "metadata": {},
     "output_type": "display_data"
    }
   ],
   "source": [
    "cm_array = confusion_matrix(predictionScores, y_predicted)\n",
    "\n",
    "df_cm = pd.DataFrame(cm_array, index=[i for i in np.unique(predictionScores)], columns=[i for i in np.unique(predictionScores)])\n",
    "\n",
    "sn.heatmap(df_cm, annot=True)"
   ]
  },
  {
   "cell_type": "code",
   "execution_count": 150,
   "metadata": {
    "collapsed": false
   },
   "outputs": [
    {
     "data": {
      "text/plain": [
       "array([[209,   5,   0,  18,   2,   0,   1,   0,   0,   0],\n",
       "       [ 84,   4,   0,   4,   1,   0,   2,   0,   0,   0],\n",
       "       [ 56,   4,   0,   4,   2,   0,   0,   0,   0,   0],\n",
       "       [ 93,   2,   0,  18,   2,   0,   0,   0,   0,   0],\n",
       "       [ 28,   1,   0,  17,   0,   2,   0,   0,   0,   0],\n",
       "       [ 10,   0,   0,   6,   1,   2,   0,   0,   0,   0],\n",
       "       [  2,   0,   0,   0,   0,   1,   1,   0,   0,   0],\n",
       "       [  2,   0,   0,   1,   1,   0,   0,   0,   0,   0],\n",
       "       [  1,   0,   0,   0,   0,   0,   0,   0,   0,   0],\n",
       "       [  1,   0,   0,   0,   0,   0,   0,   0,   0,   0]])"
      ]
     },
     "execution_count": 150,
     "metadata": {},
     "output_type": "execute_result"
    }
   ],
   "source": [
    "cm_array"
   ]
  },
  {
   "cell_type": "code",
   "execution_count": 151,
   "metadata": {
    "collapsed": false
   },
   "outputs": [
    {
     "name": "stdout",
     "output_type": "stream",
     "text": [
      "RandomForestClassifier: 0.501700680272\n"
     ]
    },
    {
     "data": {
      "text/plain": [
       "[('content_rating', 0.059376285309689227),\n",
       " ('adj_budget', 0.34731721949222027),\n",
       " ('duration', 0.22805321202730872),\n",
       " ('dir_adj_av_gross', 0.36525328317078187)]"
      ]
     },
     "execution_count": 151,
     "metadata": {},
     "output_type": "execute_result"
    }
   ],
   "source": [
    "clf =  RandomForestClassifier(n_estimators=40) \n",
    "clf.fit(trainingData, trainingScores)\n",
    "print(\"RandomForestClassifier:\",clf.score(predictionData, predictionScores) )\n",
    "\n",
    "list(zip(trainingData.columns, clf.feature_importances_))"
   ]
  },
  {
   "cell_type": "code",
   "execution_count": 152,
   "metadata": {
    "collapsed": false
   },
   "outputs": [
    {
     "data": {
      "text/plain": [
       "<matplotlib.axes._subplots.AxesSubplot at 0x11504a438>"
      ]
     },
     "execution_count": 152,
     "metadata": {},
     "output_type": "execute_result"
    },
    {
     "data": {
      "image/png": "[encoded data removed]",
      "text/plain": [
       "<matplotlib.figure.Figure at 0x115033d68>"
      ]
     },
     "metadata": {},
     "output_type": "display_data"
    }
   ],
   "source": [
    "cm_array = confusion_matrix(predictionScores, clf.predict(predictionData))\n",
    "\n",
    "df_cm = pd.DataFrame(cm_array, index=[i for i in np.unique(predictionScores)], columns=[i for i in np.unique(predictionScores)])\n",
    "\n",
    "sn.heatmap(df_cm, annot=True)"
   ]
  },
  {
   "cell_type": "code",
   "execution_count": 153,
   "metadata": {
    "collapsed": false
   },
   "outputs": [
    {
     "data": {
      "text/plain": [
       "array([[186,  19,   7,  16,   4,   1,   2,   0,   0,   0],\n",
       "       [ 49,  18,   7,  14,   4,   1,   1,   1,   0,   0],\n",
       "       [ 29,   8,  10,  16,   2,   1,   0,   0,   0,   0],\n",
       "       [ 23,  10,   5,  66,   8,   1,   2,   0,   0,   0],\n",
       "       [  8,   3,   3,  19,  10,   4,   1,   0,   0,   0],\n",
       "       [  2,   1,   0,   3,  10,   2,   1,   0,   0,   0],\n",
       "       [  1,   0,   0,   0,   0,   0,   3,   0,   0,   0],\n",
       "       [  0,   0,   0,   0,   2,   0,   2,   0,   0,   0],\n",
       "       [  0,   0,   0,   0,   0,   0,   0,   1,   0,   0],\n",
       "       [  0,   0,   0,   0,   0,   0,   0,   1,   0,   0]])"
      ]
     },
     "execution_count": 153,
     "metadata": {},
     "output_type": "execute_result"
    }
   ],
   "source": [
    "cm_array"
   ]
  },
  {
   "cell_type": "code",
   "execution_count": 154,
   "metadata": {
    "collapsed": false
   },
   "outputs": [
    {
     "name": "stdout",
     "output_type": "stream",
     "text": [
      "LogisticRegression: 0.40306122449\n"
     ]
    }
   ],
   "source": [
    "clf = LogisticRegression()\n",
    "clf.fit(trainingData, trainingScores)\n",
    "print(\"LogisticRegression:\", clf.score(predictionData, predictionScores))\n"
   ]
  },
  {
   "cell_type": "code",
   "execution_count": null,
   "metadata": {
    "collapsed": true
   },
   "outputs": [],
   "source": []
  },
  {
   "cell_type": "code",
   "execution_count": 155,
   "metadata": {
    "collapsed": false
   },
   "outputs": [
    {
     "name": "stdout",
     "output_type": "stream",
     "text": [
      "DecisionTreeClassifier: 0.401360544218\n",
      "LinearDiscriminantAnalysis: 0.41156462585\n",
      "GaussianNB: 0.384353741497\n"
     ]
    },
    {
     "name": "stderr",
     "output_type": "stream",
     "text": [
      "/Users/livfranzen/anaconda3/lib/python3.6/site-packages/sklearn/discriminant_analysis.py:455: UserWarning: The priors do not sum to 1. Renormalizing\n",
      "  UserWarning)\n"
     ]
    },
    {
     "name": "stdout",
     "output_type": "stream",
     "text": [
      "SVC: 0.399659863946\n"
     ]
    }
   ],
   "source": [
    "clf = DecisionTreeClassifier()\n",
    "clf.fit(trainingData, trainingScores)\n",
    "print(\"DecisionTreeClassifier:\", clf.score(predictionData, predictionScores))\n",
    "\n",
    "clf = LinearDiscriminantAnalysis()\n",
    "clf.fit(trainingData, trainingScores)\n",
    "print(\"LinearDiscriminantAnalysis:\",  clf.score(predictionData, predictionScores))\n",
    "\n",
    "clf = GaussianNB()\n",
    "clf.fit(trainingData, trainingScores)\n",
    "print(\"GaussianNB:\", clf.score(predictionData, predictionScores))\n",
    "\n",
    "clf = SVC()\n",
    "clf.fit(trainingData, trainingScores)\n",
    "print(\"SVC:\", clf.score(predictionData, predictionScores) )"
   ]
  },
  {
   "cell_type": "code",
   "execution_count": null,
   "metadata": {
    "collapsed": true
   },
   "outputs": [],
   "source": []
  }
 ],
 "metadata": {
  "kernelspec": {
   "display_name": "Python 3",
   "language": "python",
   "name": "python3"
  },
  "language_info": {
   "codemirror_mode": {
    "name": "ipython",
    "version": 3
   },
   "file_extension": ".py",
   "mimetype": "text/x-python",
   "name": "python",
   "nbconvert_exporter": "python",
   "pygments_lexer": "ipython3",
   "version": "3.6.0"
  }
 },
 "nbformat": 4,
 "nbformat_minor": 2
}
