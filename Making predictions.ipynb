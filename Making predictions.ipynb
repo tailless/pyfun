{
 "cells": [
  {
   "cell_type": "code",
   "execution_count": 1,
   "metadata": {
    "collapsed": false
   },
   "outputs": [
    {
     "data": {
      "text/html": [
       "<div>\n",
       "<table border=\"1\" class=\"dataframe\">\n",
       "  <thead>\n",
       "    <tr style=\"text-align: right;\">\n",
       "      <th></th>\n",
       "      <th>movie_title</th>\n",
       "      <th>title_year</th>\n",
       "      <th>director_name</th>\n",
       "      <th>gross</th>\n",
       "      <th>budget</th>\n",
       "      <th>content_rating</th>\n",
       "      <th>country</th>\n",
       "      <th>duration</th>\n",
       "      <th>actor_1_facebook_likes</th>\n",
       "      <th>genres</th>\n",
       "      <th>...</th>\n",
       "      <th>Horror</th>\n",
       "      <th>Music</th>\n",
       "      <th>Musical</th>\n",
       "      <th>Mystery</th>\n",
       "      <th>Romance</th>\n",
       "      <th>Sci-Fi</th>\n",
       "      <th>Sport</th>\n",
       "      <th>Thriller</th>\n",
       "      <th>War</th>\n",
       "      <th>Western</th>\n",
       "    </tr>\n",
       "  </thead>\n",
       "  <tbody>\n",
       "    <tr>\n",
       "      <th>0</th>\n",
       "      <td>Avatar</td>\n",
       "      <td>2009.0</td>\n",
       "      <td>James Cameron</td>\n",
       "      <td>760505847.0</td>\n",
       "      <td>237000000.0</td>\n",
       "      <td>3</td>\n",
       "      <td>USA</td>\n",
       "      <td>178.0</td>\n",
       "      <td>1000.0</td>\n",
       "      <td>Action|Adventure|Fantasy|Sci-Fi</td>\n",
       "      <td>...</td>\n",
       "      <td>0</td>\n",
       "      <td>0</td>\n",
       "      <td>0</td>\n",
       "      <td>0</td>\n",
       "      <td>0</td>\n",
       "      <td>1</td>\n",
       "      <td>0</td>\n",
       "      <td>0</td>\n",
       "      <td>0</td>\n",
       "      <td>0</td>\n",
       "    </tr>\n",
       "    <tr>\n",
       "      <th>1</th>\n",
       "      <td>Pirates of the Caribbean: At World's End</td>\n",
       "      <td>2007.0</td>\n",
       "      <td>Gore Verbinski</td>\n",
       "      <td>309404152.0</td>\n",
       "      <td>300000000.0</td>\n",
       "      <td>3</td>\n",
       "      <td>USA</td>\n",
       "      <td>169.0</td>\n",
       "      <td>40000.0</td>\n",
       "      <td>Action|Adventure|Fantasy</td>\n",
       "      <td>...</td>\n",
       "      <td>0</td>\n",
       "      <td>0</td>\n",
       "      <td>0</td>\n",
       "      <td>0</td>\n",
       "      <td>0</td>\n",
       "      <td>0</td>\n",
       "      <td>0</td>\n",
       "      <td>0</td>\n",
       "      <td>0</td>\n",
       "      <td>0</td>\n",
       "    </tr>\n",
       "  </tbody>\n",
       "</table>\n",
       "<p>2 rows × 38 columns</p>\n",
       "</div>"
      ],
      "text/plain": [
       "                                 movie_title  title_year   director_name  \\\n",
       "0                                    Avatar       2009.0   James Cameron   \n",
       "1  Pirates of the Caribbean: At World's End       2007.0  Gore Verbinski   \n",
       "\n",
       "         gross       budget  content_rating country  duration  \\\n",
       "0  760505847.0  237000000.0               3     USA     178.0   \n",
       "1  309404152.0  300000000.0               3     USA     169.0   \n",
       "\n",
       "   actor_1_facebook_likes                           genres   ...     Horror  \\\n",
       "0                  1000.0  Action|Adventure|Fantasy|Sci-Fi   ...          0   \n",
       "1                 40000.0         Action|Adventure|Fantasy   ...          0   \n",
       "\n",
       "   Music  Musical  Mystery  Romance  Sci-Fi  Sport  Thriller  War  Western  \n",
       "0      0        0        0        0       1      0         0    0        0  \n",
       "1      0        0        0        0       0      0         0    0        0  \n",
       "\n",
       "[2 rows x 38 columns]"
      ]
     },
     "execution_count": 1,
     "metadata": {},
     "output_type": "execute_result"
    }
   ],
   "source": [
    "import pandas as pd\n",
    "\n",
    "# load imdb csv file into dataframe\n",
    "imdb = pd.read_csv(\"./movies_with_SplitGenres.csv\" )\n",
    "imdb.head(2)"
   ]
  },
  {
   "cell_type": "code",
   "execution_count": 2,
   "metadata": {
    "collapsed": false
   },
   "outputs": [
    {
     "data": {
      "text/plain": [
       "[0, 1, 2, 3, 4, 5, 6, 7, 8, 9, 10, 11, 13, 15]"
      ]
     },
     "execution_count": 2,
     "metadata": {},
     "output_type": "execute_result"
    }
   ],
   "source": [
    "from sklearn import preprocessing\n",
    "le = preprocessing.LabelEncoder()\n",
    "le.fit(imdb.ROI_band.unique())\n",
    "\n",
    "list(le.classes_)"
   ]
  },
  {
   "cell_type": "code",
   "execution_count": 3,
   "metadata": {
    "collapsed": true
   },
   "outputs": [],
   "source": [
    "#testing a range of classifiers.. \n",
    "from sklearn                        import metrics, svm\n",
    "from sklearn.linear_model           import LinearRegression\n",
    "from sklearn.linear_model           import LogisticRegression\n",
    "from sklearn.tree                   import DecisionTreeClassifier\n",
    "from sklearn.neighbors              import KNeighborsClassifier\n",
    "from sklearn.discriminant_analysis  import LinearDiscriminantAnalysis\n",
    "from sklearn.naive_bayes            import GaussianNB\n",
    "from sklearn.svm                    import SVC\n",
    "from sklearn.ensemble import RandomForestClassifier"
   ]
  },
  {
   "cell_type": "code",
   "execution_count": 89,
   "metadata": {
    "collapsed": false
   },
   "outputs": [],
   "source": [
    "#Using content rating & adjusted budget, duration, dir_adj_av_gross and genres to predict gross earnings\n",
    "#X = imdb.loc[:, ['content_rating','adj_budget','duration','dir_adj_av_gross']].values\n",
    "X = imdb.loc[:, ['content_rating','adj_budget','duration','dir_adj_av_gross','Action', 'Adventure', 'Animation', 'Biography', 'Comedy', 'Crime','Documentary', 'Drama', 'Family', 'Fantasy', 'History', 'Horror','Music', 'Musical', 'Mystery', 'Romance', 'Sci-Fi', 'Sport','Thriller', 'War', 'Western']]\n",
    "y = imdb.loc[:, 'profit'].values\n",
    "\n",
    "#splitting the data\n",
    "from sklearn.model_selection import train_test_split\n",
    "X_train, X_test, y_train, y_test = train_test_split(X, y, test_size=0.2, random_state=8)"
   ]
  },
  {
   "cell_type": "code",
   "execution_count": 90,
   "metadata": {
    "collapsed": false
   },
   "outputs": [
    {
     "name": "stdout",
     "output_type": "stream",
     "text": [
      "KNeighborsClassifier: 0.765306122449\n",
      "RandomForestClassifier: 0.734693877551\n",
      "LogisticRegression: 0.775510204082\n",
      "DecisionTreeClassifier: 0.700680272109\n",
      "LinearDiscriminantAnalysis: 0.632653061224\n",
      "GaussianNB: 0.506802721088\n",
      "SVC: 0.595238095238\n"
     ]
    }
   ],
   "source": [
    "#make predictions\n",
    "trainingData    = X_train\n",
    "trainingScores  = y_train \n",
    "predictionData  = X_test \n",
    "predictionScores = y_test\n",
    "\n",
    "clf = KNeighborsClassifier(n_neighbors=30, algorithm='auto', metric='minkowski', p=2, weights='uniform')\n",
    "clf.fit(trainingData, trainingScores)\n",
    "print(\"KNeighborsClassifier:\", clf.score(predictionData, predictionScores))\n",
    "\n",
    "clf =  RandomForestClassifier(n_estimators=40) \n",
    "clf.fit(trainingData, trainingScores)\n",
    "print(\"RandomForestClassifier:\",clf.score(predictionData, predictionScores) )\n",
    "\n",
    "clf = LogisticRegression()\n",
    "clf.fit(trainingData, trainingScores)\n",
    "print(\"LogisticRegression:\", clf.score(predictionData, predictionScores))\n",
    "\n",
    "clf = DecisionTreeClassifier()\n",
    "clf.fit(trainingData, trainingScores)\n",
    "print(\"DecisionTreeClassifier:\", clf.score(predictionData, predictionScores))\n",
    "\n",
    "clf = LinearDiscriminantAnalysis()\n",
    "clf.fit(trainingData, trainingScores)\n",
    "print(\"LinearDiscriminantAnalysis:\",  clf.score(predictionData, predictionScores))\n",
    "\n",
    "clf = GaussianNB()\n",
    "clf.fit(trainingData, trainingScores)\n",
    "print(\"GaussianNB:\", clf.score(predictionData, predictionScores))\n",
    "\n",
    "clf = SVC()\n",
    "clf.fit(trainingData, trainingScores)\n",
    "print(\"SVC:\", clf.score(predictionData, predictionScores) )\n"
   ]
  },
  {
   "cell_type": "code",
   "execution_count": 91,
   "metadata": {
    "collapsed": false
   },
   "outputs": [
    {
     "data": {
      "text/plain": [
       "(2940, 38)"
      ]
     },
     "execution_count": 91,
     "metadata": {},
     "output_type": "execute_result"
    }
   ],
   "source": [
    "imdb.shape"
   ]
  },
  {
   "cell_type": "code",
   "execution_count": null,
   "metadata": {
    "collapsed": true
   },
   "outputs": [],
   "source": []
  }
 ],
 "metadata": {
  "kernelspec": {
   "display_name": "Python 3",
   "language": "python",
   "name": "python3"
  },
  "language_info": {
   "codemirror_mode": {
    "name": "ipython",
    "version": 3
   },
   "file_extension": ".py",
   "mimetype": "text/x-python",
   "name": "python",
   "nbconvert_exporter": "python",
   "pygments_lexer": "ipython3",
   "version": "3.6.0"
  }
 },
 "nbformat": 4,
 "nbformat_minor": 2
}
