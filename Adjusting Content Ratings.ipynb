{
 "cells": [
  {
   "cell_type": "code",
   "execution_count": 2,
   "metadata": {
    "collapsed": false
   },
   "outputs": [
    {
     "data": {
      "text/html": [
       "<div>\n",
       "<table border=\"1\" class=\"dataframe\">\n",
       "  <thead>\n",
       "    <tr style=\"text-align: right;\">\n",
       "      <th></th>\n",
       "      <th>movie_title</th>\n",
       "      <th>title_year</th>\n",
       "      <th>director_name</th>\n",
       "      <th>gross</th>\n",
       "      <th>budget</th>\n",
       "      <th>content_rating</th>\n",
       "      <th>country</th>\n",
       "      <th>duration</th>\n",
       "      <th>actor_1_facebook_likes</th>\n",
       "      <th>genres</th>\n",
       "    </tr>\n",
       "  </thead>\n",
       "  <tbody>\n",
       "    <tr>\n",
       "      <th>0</th>\n",
       "      <td>Avatar</td>\n",
       "      <td>2009.0</td>\n",
       "      <td>James Cameron</td>\n",
       "      <td>760505847.0</td>\n",
       "      <td>237000000.0</td>\n",
       "      <td>PG-13</td>\n",
       "      <td>USA</td>\n",
       "      <td>178.0</td>\n",
       "      <td>1000.0</td>\n",
       "      <td>Action|Adventure|Fantasy|Sci-Fi</td>\n",
       "    </tr>\n",
       "    <tr>\n",
       "      <th>1</th>\n",
       "      <td>Pirates of the Caribbean: At World's End</td>\n",
       "      <td>2007.0</td>\n",
       "      <td>Gore Verbinski</td>\n",
       "      <td>309404152.0</td>\n",
       "      <td>300000000.0</td>\n",
       "      <td>PG-13</td>\n",
       "      <td>USA</td>\n",
       "      <td>169.0</td>\n",
       "      <td>40000.0</td>\n",
       "      <td>Action|Adventure|Fantasy</td>\n",
       "    </tr>\n",
       "    <tr>\n",
       "      <th>2</th>\n",
       "      <td>The Dark Knight Rises</td>\n",
       "      <td>2012.0</td>\n",
       "      <td>Christopher Nolan</td>\n",
       "      <td>448130642.0</td>\n",
       "      <td>250000000.0</td>\n",
       "      <td>PG-13</td>\n",
       "      <td>USA</td>\n",
       "      <td>164.0</td>\n",
       "      <td>27000.0</td>\n",
       "      <td>Action|Thriller</td>\n",
       "    </tr>\n",
       "    <tr>\n",
       "      <th>3</th>\n",
       "      <td>John Carter</td>\n",
       "      <td>2012.0</td>\n",
       "      <td>Andrew Stanton</td>\n",
       "      <td>73058679.0</td>\n",
       "      <td>263700000.0</td>\n",
       "      <td>PG-13</td>\n",
       "      <td>USA</td>\n",
       "      <td>132.0</td>\n",
       "      <td>640.0</td>\n",
       "      <td>Action|Adventure|Sci-Fi</td>\n",
       "    </tr>\n",
       "    <tr>\n",
       "      <th>4</th>\n",
       "      <td>Spider-Man 3</td>\n",
       "      <td>2007.0</td>\n",
       "      <td>Sam Raimi</td>\n",
       "      <td>336530303.0</td>\n",
       "      <td>258000000.0</td>\n",
       "      <td>PG-13</td>\n",
       "      <td>USA</td>\n",
       "      <td>156.0</td>\n",
       "      <td>24000.0</td>\n",
       "      <td>Action|Adventure|Romance</td>\n",
       "    </tr>\n",
       "  </tbody>\n",
       "</table>\n",
       "</div>"
      ],
      "text/plain": [
       "                                 movie_title  title_year      director_name  \\\n",
       "0                                    Avatar       2009.0      James Cameron   \n",
       "1  Pirates of the Caribbean: At World's End       2007.0     Gore Verbinski   \n",
       "2                     The Dark Knight Rises       2012.0  Christopher Nolan   \n",
       "3                               John Carter       2012.0     Andrew Stanton   \n",
       "4                              Spider-Man 3       2007.0          Sam Raimi   \n",
       "\n",
       "         gross       budget content_rating country  duration  \\\n",
       "0  760505847.0  237000000.0          PG-13     USA     178.0   \n",
       "1  309404152.0  300000000.0          PG-13     USA     169.0   \n",
       "2  448130642.0  250000000.0          PG-13     USA     164.0   \n",
       "3   73058679.0  263700000.0          PG-13     USA     132.0   \n",
       "4  336530303.0  258000000.0          PG-13     USA     156.0   \n",
       "\n",
       "   actor_1_facebook_likes                           genres  \n",
       "0                  1000.0  Action|Adventure|Fantasy|Sci-Fi  \n",
       "1                 40000.0         Action|Adventure|Fantasy  \n",
       "2                 27000.0                  Action|Thriller  \n",
       "3                   640.0          Action|Adventure|Sci-Fi  \n",
       "4                 24000.0         Action|Adventure|Romance  "
      ]
     },
     "execution_count": 2,
     "metadata": {},
     "output_type": "execute_result"
    }
   ],
   "source": [
    "import pandas as pd\n",
    "\n",
    "# load imdb csv file into dataframe\n",
    "imdb = pd.read_csv(\"./movie_all_relevant_cleaned_metadata.csv\" )\n",
    "imdb.head()"
   ]
  },
  {
   "cell_type": "code",
   "execution_count": 3,
   "metadata": {
    "collapsed": false
   },
   "outputs": [
    {
     "data": {
      "text/plain": [
       "array(['PG-13', 'PG', 'G', 'R', 'NC-17'], dtype=object)"
      ]
     },
     "execution_count": 3,
     "metadata": {},
     "output_type": "execute_result"
    }
   ],
   "source": [
    "#filter out movies with no rating data & copy dataframe\n",
    "ratedMovies = imdb.loc[(imdb.content_rating != 'Not Rated') & (imdb.content_rating != 'Unrated') & (imdb.content_rating.notnull())].copy()\n",
    "#group ratings into 5 the main categories ['PG-13', 'PG', 'G', 'R', 'NC-17']\n",
    "ratedMovies.loc[(ratedMovies.content_rating == \"X\"), 'content_rating'] = \"NC-17\"\n",
    "ratedMovies.loc[(ratedMovies.content_rating == \"GP\") | (ratedMovies.content_rating == \"M\"), 'content_rating'] = \"PG\"\n",
    "ratedMovies.loc[(ratedMovies.content_rating == \"Approved\") | (ratedMovies.content_rating == \"Passed\"), 'content_rating'] = \"G\"\n",
    "ratedMovies.loc[(ratedMovies.content_rating == \"TV-MA\"), 'content_rating'] = \"R\"\n",
    "ratedMovies.content_rating.unique()"
   ]
  },
  {
   "cell_type": "code",
   "execution_count": 4,
   "metadata": {
    "collapsed": false
   },
   "outputs": [
    {
     "data": {
      "text/plain": [
       "(2940, 10)"
      ]
     },
     "execution_count": 4,
     "metadata": {},
     "output_type": "execute_result"
    }
   ],
   "source": [
    "ratedMovies.shape"
   ]
  },
  {
   "cell_type": "code",
   "execution_count": 5,
   "metadata": {
    "collapsed": false
   },
   "outputs": [
    {
     "data": {
      "text/html": [
       "<div>\n",
       "<table border=\"1\" class=\"dataframe\">\n",
       "  <thead>\n",
       "    <tr style=\"text-align: right;\">\n",
       "      <th></th>\n",
       "      <th>movie_title</th>\n",
       "      <th>title_year</th>\n",
       "      <th>director_name</th>\n",
       "      <th>gross</th>\n",
       "      <th>budget</th>\n",
       "      <th>content_rating</th>\n",
       "      <th>country</th>\n",
       "      <th>duration</th>\n",
       "      <th>actor_1_facebook_likes</th>\n",
       "      <th>genres</th>\n",
       "    </tr>\n",
       "  </thead>\n",
       "  <tbody>\n",
       "    <tr>\n",
       "      <th>0</th>\n",
       "      <td>Avatar</td>\n",
       "      <td>2009.0</td>\n",
       "      <td>James Cameron</td>\n",
       "      <td>760505847.0</td>\n",
       "      <td>237000000.0</td>\n",
       "      <td>PG-13</td>\n",
       "      <td>USA</td>\n",
       "      <td>178.0</td>\n",
       "      <td>1000.0</td>\n",
       "      <td>Action|Adventure|Fantasy|Sci-Fi</td>\n",
       "    </tr>\n",
       "    <tr>\n",
       "      <th>1</th>\n",
       "      <td>Pirates of the Caribbean: At World's End</td>\n",
       "      <td>2007.0</td>\n",
       "      <td>Gore Verbinski</td>\n",
       "      <td>309404152.0</td>\n",
       "      <td>300000000.0</td>\n",
       "      <td>PG-13</td>\n",
       "      <td>USA</td>\n",
       "      <td>169.0</td>\n",
       "      <td>40000.0</td>\n",
       "      <td>Action|Adventure|Fantasy</td>\n",
       "    </tr>\n",
       "    <tr>\n",
       "      <th>2</th>\n",
       "      <td>The Dark Knight Rises</td>\n",
       "      <td>2012.0</td>\n",
       "      <td>Christopher Nolan</td>\n",
       "      <td>448130642.0</td>\n",
       "      <td>250000000.0</td>\n",
       "      <td>PG-13</td>\n",
       "      <td>USA</td>\n",
       "      <td>164.0</td>\n",
       "      <td>27000.0</td>\n",
       "      <td>Action|Thriller</td>\n",
       "    </tr>\n",
       "    <tr>\n",
       "      <th>3</th>\n",
       "      <td>John Carter</td>\n",
       "      <td>2012.0</td>\n",
       "      <td>Andrew Stanton</td>\n",
       "      <td>73058679.0</td>\n",
       "      <td>263700000.0</td>\n",
       "      <td>PG-13</td>\n",
       "      <td>USA</td>\n",
       "      <td>132.0</td>\n",
       "      <td>640.0</td>\n",
       "      <td>Action|Adventure|Sci-Fi</td>\n",
       "    </tr>\n",
       "    <tr>\n",
       "      <th>4</th>\n",
       "      <td>Spider-Man 3</td>\n",
       "      <td>2007.0</td>\n",
       "      <td>Sam Raimi</td>\n",
       "      <td>336530303.0</td>\n",
       "      <td>258000000.0</td>\n",
       "      <td>PG-13</td>\n",
       "      <td>USA</td>\n",
       "      <td>156.0</td>\n",
       "      <td>24000.0</td>\n",
       "      <td>Action|Adventure|Romance</td>\n",
       "    </tr>\n",
       "  </tbody>\n",
       "</table>\n",
       "</div>"
      ],
      "text/plain": [
       "                                 movie_title  title_year      director_name  \\\n",
       "0                                    Avatar       2009.0      James Cameron   \n",
       "1  Pirates of the Caribbean: At World's End       2007.0     Gore Verbinski   \n",
       "2                     The Dark Knight Rises       2012.0  Christopher Nolan   \n",
       "3                               John Carter       2012.0     Andrew Stanton   \n",
       "4                              Spider-Man 3       2007.0          Sam Raimi   \n",
       "\n",
       "         gross       budget content_rating country  duration  \\\n",
       "0  760505847.0  237000000.0          PG-13     USA     178.0   \n",
       "1  309404152.0  300000000.0          PG-13     USA     169.0   \n",
       "2  448130642.0  250000000.0          PG-13     USA     164.0   \n",
       "3   73058679.0  263700000.0          PG-13     USA     132.0   \n",
       "4  336530303.0  258000000.0          PG-13     USA     156.0   \n",
       "\n",
       "   actor_1_facebook_likes                           genres  \n",
       "0                  1000.0  Action|Adventure|Fantasy|Sci-Fi  \n",
       "1                 40000.0         Action|Adventure|Fantasy  \n",
       "2                 27000.0                  Action|Thriller  \n",
       "3                   640.0          Action|Adventure|Sci-Fi  \n",
       "4                 24000.0         Action|Adventure|Romance  "
      ]
     },
     "execution_count": 5,
     "metadata": {},
     "output_type": "execute_result"
    }
   ],
   "source": [
    "ratedMovies.head()"
   ]
  },
  {
   "cell_type": "code",
   "execution_count": 6,
   "metadata": {
    "collapsed": true
   },
   "outputs": [],
   "source": [
    "# Write rate adjusted dataframe to csv\n",
    "ratedMovies.to_csv(\"./movie_all_relevant_rate_adjusted_metadata.csv\", index=False, encoding=\"utf-8\")"
   ]
  },
  {
   "cell_type": "code",
   "execution_count": null,
   "metadata": {
    "collapsed": true
   },
   "outputs": [],
   "source": []
  }
 ],
 "metadata": {
  "kernelspec": {
   "display_name": "Python 3",
   "language": "python",
   "name": "python3"
  },
  "language_info": {
   "codemirror_mode": {
    "name": "ipython",
    "version": 3
   },
   "file_extension": ".py",
   "mimetype": "text/x-python",
   "name": "python",
   "nbconvert_exporter": "python",
   "pygments_lexer": "ipython3",
   "version": "3.6.0"
  }
 },
 "nbformat": 4,
 "nbformat_minor": 2
}
